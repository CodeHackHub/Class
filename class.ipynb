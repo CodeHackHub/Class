{
 "cells": [
  {
   "cell_type": "code",
   "execution_count": 1,
   "id": "4b7c90fa-c8fb-4243-a2d4-50a3a0403a91",
   "metadata": {},
   "outputs": [
    {
     "name": "stdout",
     "output_type": "stream",
     "text": [
      "Hi, my name is Sasha and I am 19 years old\n",
      "Hi, my name is Andrei and I am 20 years old\n"
     ]
    }
   ],
   "source": [
    "class Person:\n",
    "    def __init__(self, name, age):\n",
    "        self.name = name\n",
    "        self.age = age\n",
    "        \n",
    "    def introduce(self):\n",
    "        print(f\"Hi, my name is {self.name} and I am {self.age} years old\")\n",
    "\n",
    "person1 = Person(\"Sasha\", 19)\n",
    "person2 = Person(\"Andrei\", 20)\n",
    "\n",
    "person1.introduce()\n",
    "person2.introduce()"
   ]
  },
  {
   "cell_type": "code",
   "execution_count": null,
   "id": "b060aabc-3ae4-4fed-bffa-3004fac6862d",
   "metadata": {},
   "outputs": [],
   "source": []
  }
 ],
 "metadata": {
  "kernelspec": {
   "display_name": "Python 3 (ipykernel)",
   "language": "python",
   "name": "python3"
  },
  "language_info": {
   "codemirror_mode": {
    "name": "ipython",
    "version": 3
   },
   "file_extension": ".py",
   "mimetype": "text/x-python",
   "name": "python",
   "nbconvert_exporter": "python",
   "pygments_lexer": "ipython3",
   "version": "3.10.11"
  }
 },
 "nbformat": 4,
 "nbformat_minor": 5
}
